{
 "cells": [
  {
   "cell_type": "markdown",
   "metadata": {},
   "source": [
    "# Credit Card Fraud Detection"
   ]
  },
  {
   "cell_type": "code",
   "execution_count": null,
   "metadata": {
    "_cell_guid": "b1076dfc-b9ad-4769-8c92-a6c4dae69d19",
    "_uuid": "8f2839f25d086af736a60e9eeb907d3b93b6e0e5",
    "execution": {
     "iopub.execute_input": "2022-12-04T17:18:12.613495Z",
     "iopub.status.busy": "2022-12-04T17:18:12.613240Z",
     "iopub.status.idle": "2022-12-04T17:18:12.617819Z",
     "shell.execute_reply": "2022-12-04T17:18:12.617060Z",
     "shell.execute_reply.started": "2022-12-04T17:18:12.613465Z"
    }
   },
   "outputs": [],
   "source": [
    "import numpy as np\n",
    "import imblearn \n",
    "import pandas as pd\n",
    "import matplotlib.pyplot as plt\n",
    "import seaborn as sns\n",
    "from imblearn.under_sampling import RandomUnderSampler\n",
    "from sklearn.ensemble import RandomForestClassifier\n",
    "from sklearn.model_selection import GridSearchCV\n",
    "import os"
   ]
  },
  {
   "cell_type": "markdown",
   "metadata": {},
   "source": [
    "# import dataset test and train"
   ]
  },
  {
   "cell_type": "code",
   "execution_count": null,
   "metadata": {
    "execution": {
     "iopub.execute_input": "2022-12-04T17:18:12.623467Z",
     "iopub.status.busy": "2022-12-04T17:18:12.623108Z",
     "iopub.status.idle": "2022-12-04T17:18:19.528606Z",
     "shell.execute_reply": "2022-12-04T17:18:19.527793Z",
     "shell.execute_reply.started": "2022-12-04T17:18:12.623440Z"
    }
   },
   "outputs": [],
   "source": [
    "train_df = pd.read_csv('C:/Users/G PRANAV/Downloads/fraudTrain.csv')\n",
    "test_df = pd.read_csv('C:/Users/G PRANAV/Downloads/fraudTest.csv')\n",
    "print(\"Train fraud Data size=\",train_df.shape)\n",
    "print(\"Test fraud Data size=\",test_df.shape)"
   ]
  },
  {
   "cell_type": "code",
   "execution_count": null,
   "metadata": {
    "execution": {
     "iopub.execute_input": "2022-12-04T17:18:19.530761Z",
     "iopub.status.busy": "2022-12-04T17:18:19.530317Z",
     "iopub.status.idle": "2022-12-04T17:18:19.923297Z",
     "shell.execute_reply": "2022-12-04T17:18:19.922539Z",
     "shell.execute_reply.started": "2022-12-04T17:18:19.530722Z"
    }
   },
   "outputs": [],
   "source": [
    "print(train_df.describe())  # General statistics"
   ]
  },
  {
   "cell_type": "code",
   "execution_count": null,
   "metadata": {
    "execution": {
     "iopub.execute_input": "2022-12-04T17:18:19.925023Z",
     "iopub.status.busy": "2022-12-04T17:18:19.924776Z",
     "iopub.status.idle": "2022-12-04T17:18:19.931325Z",
     "shell.execute_reply": "2022-12-04T17:18:19.930432Z",
     "shell.execute_reply.started": "2022-12-04T17:18:19.924988Z"
    }
   },
   "outputs": [],
   "source": [
    "train_df.columns"
   ]
  },
  {
   "cell_type": "markdown",
   "metadata": {},
   "source": [
    "Check data description and null value of train data"
   ]
  },
  {
   "cell_type": "code",
   "execution_count": null,
   "metadata": {
    "execution": {
     "iopub.execute_input": "2022-12-04T17:18:19.933760Z",
     "iopub.status.busy": "2022-12-04T17:18:19.933470Z",
     "iopub.status.idle": "2022-12-04T17:18:19.961972Z",
     "shell.execute_reply": "2022-12-04T17:18:19.961298Z",
     "shell.execute_reply.started": "2022-12-04T17:18:19.933723Z"
    }
   },
   "outputs": [],
   "source": [
    "test_df.head(5)"
   ]
  },
  {
   "cell_type": "code",
   "execution_count": null,
   "metadata": {
    "execution": {
     "iopub.execute_input": "2022-12-04T17:18:19.963830Z",
     "iopub.status.busy": "2022-12-04T17:18:19.963251Z",
     "iopub.status.idle": "2022-12-04T17:18:20.500158Z",
     "shell.execute_reply": "2022-12-04T17:18:20.499412Z",
     "shell.execute_reply.started": "2022-12-04T17:18:19.963794Z"
    }
   },
   "outputs": [],
   "source": [
    "train_df.info()"
   ]
  },
  {
   "cell_type": "code",
   "execution_count": null,
   "metadata": {
    "execution": {
     "iopub.execute_input": "2022-12-04T17:18:20.501853Z",
     "iopub.status.busy": "2022-12-04T17:18:20.501374Z",
     "iopub.status.idle": "2022-12-04T17:18:20.739106Z",
     "shell.execute_reply": "2022-12-04T17:18:20.738260Z",
     "shell.execute_reply.started": "2022-12-04T17:18:20.501810Z"
    }
   },
   "outputs": [],
   "source": [
    "test_df.info()"
   ]
  },
  {
   "cell_type": "markdown",
   "metadata": {},
   "source": [
    "# Data analysis and Visualization"
   ]
  },
  {
   "cell_type": "code",
   "execution_count": null,
   "metadata": {
    "execution": {
     "iopub.execute_input": "2022-12-04T17:18:20.740565Z",
     "iopub.status.busy": "2022-12-04T17:18:20.740299Z",
     "iopub.status.idle": "2022-12-04T17:18:21.909148Z",
     "shell.execute_reply": "2022-12-04T17:18:21.908438Z",
     "shell.execute_reply.started": "2022-12-04T17:18:20.740524Z"
    }
   },
   "outputs": [],
   "source": [
    "fig, ax = plt.subplots(figsize=(10,8))\n",
    "sns.heatmap(train_df.corr(),cmap=\"YlGnBu\", annot=True)\n",
    "plt.show()"
   ]
  },
  {
   "cell_type": "markdown",
   "metadata": {},
   "source": [
    "Note: From heatmap amount has highly correlated with is_fraud\n",
    "\n",
    "(Heatmap if value close to 1 and color close to white meaning 2 features have highly correlated)"
   ]
  },
  {
   "cell_type": "markdown",
   "metadata": {},
   "source": [
    "## Most amount scamed and there gender information"
   ]
  },
  {
   "cell_type": "code",
   "execution_count": null,
   "metadata": {
    "execution": {
     "iopub.execute_input": "2022-12-04T17:18:21.911042Z",
     "iopub.status.busy": "2022-12-04T17:18:21.910375Z",
     "iopub.status.idle": "2022-12-04T17:18:21.952718Z",
     "shell.execute_reply": "2022-12-04T17:18:21.951925Z",
     "shell.execute_reply.started": "2022-12-04T17:18:21.911003Z"
    }
   },
   "outputs": [],
   "source": [
    "train_df.loc[train_df['is_fraud'] == 1].sort_values('amt', ascending=False).head(2)"
   ]
  },
  {
   "cell_type": "code",
   "execution_count": null,
   "metadata": {
    "execution": {
     "iopub.execute_input": "2022-12-04T17:18:21.954433Z",
     "iopub.status.busy": "2022-12-04T17:18:21.953984Z",
     "iopub.status.idle": "2022-12-04T17:18:32.440094Z",
     "shell.execute_reply": "2022-12-04T17:18:32.439415Z",
     "shell.execute_reply.started": "2022-12-04T17:18:21.954397Z"
    }
   },
   "outputs": [],
   "source": [
    "# Age\n",
    "plt.figure(figsize=(9,7))\n",
    "plt.title('Number of frauds by category')\n",
    "sns.barplot(x=\"gender\", y='is_fraud' ,data=train_df)"
   ]
  },
  {
   "cell_type": "code",
   "execution_count": null,
   "metadata": {
    "execution": {
     "iopub.execute_input": "2022-12-04T17:18:32.443463Z",
     "iopub.status.busy": "2022-12-04T17:18:32.443255Z",
     "iopub.status.idle": "2022-12-04T17:18:42.984821Z",
     "shell.execute_reply": "2022-12-04T17:18:42.983947Z",
     "shell.execute_reply.started": "2022-12-04T17:18:32.443438Z"
    }
   },
   "outputs": [],
   "source": [
    "# Category\n",
    "plt.figure(figsize=(16,8))\n",
    "plt.title('Number of frauds by category')\n",
    "sns.barplot(x=\"category\", y='is_fraud' ,data=train_df)"
   ]
  },
  {
   "cell_type": "markdown",
   "metadata": {},
   "source": [
    "# Pre-Processing\n",
    "## Downsampling Data\n",
    "Use downsampling solution because targets are imbalance data"
   ]
  },
  {
   "cell_type": "code",
   "execution_count": null,
   "metadata": {
    "execution": {
     "iopub.execute_input": "2022-12-04T17:18:42.991651Z",
     "iopub.status.busy": "2022-12-04T17:18:42.989290Z",
     "iopub.status.idle": "2022-12-04T17:18:43.006767Z",
     "shell.execute_reply": "2022-12-04T17:18:43.006000Z",
     "shell.execute_reply.started": "2022-12-04T17:18:42.991604Z"
    }
   },
   "outputs": [],
   "source": [
    "print(\"Number of is_fraud data\")\n",
    "print(train_df['is_fraud'].value_counts())"
   ]
  },
  {
   "cell_type": "markdown",
   "metadata": {},
   "source": [
    "is_fraud = 0 has 1289169 data\n",
    "\n",
    "is_fraud = 1 has 7506 data\n",
    "\n",
    "Amount of is_fraud is very different, it can make overfitting"
   ]
  },
  {
   "cell_type": "code",
   "execution_count": null,
   "metadata": {
    "execution": {
     "iopub.execute_input": "2022-12-04T17:18:43.008912Z",
     "iopub.status.busy": "2022-12-04T17:18:43.008222Z",
     "iopub.status.idle": "2022-12-04T17:18:43.392912Z",
     "shell.execute_reply": "2022-12-04T17:18:43.392150Z",
     "shell.execute_reply.started": "2022-12-04T17:18:43.008877Z"
    }
   },
   "outputs": [],
   "source": [
    "from sklearn.utils import resample \n",
    "# .iloc[:,22] = is_fraud\n",
    "df_minority = train_df[train_df.iloc[:,22].values==0]\n",
    "df_majority = train_df[train_df.iloc[:,22].values==1] \n",
    " \n",
    "# Downsample majority class\n",
    "df_minority_downsampled = resample(df_minority,\n",
    "                                 n_samples=7506,\n",
    "                                 random_state=42)\n",
    " \n",
    "# Combine minority class with downsampled majority class\n",
    "train_df_final = pd.concat([df_minority_downsampled, df_majority])\n",
    " \n",
    "# final train data\n",
    "train_df_final.info()"
   ]
  },
  {
   "cell_type": "code",
   "execution_count": null,
   "metadata": {
    "execution": {
     "iopub.execute_input": "2022-12-04T17:18:43.395741Z",
     "iopub.status.busy": "2022-12-04T17:18:43.394102Z",
     "iopub.status.idle": "2022-12-04T17:18:43.401908Z",
     "shell.execute_reply": "2022-12-04T17:18:43.400941Z",
     "shell.execute_reply.started": "2022-12-04T17:18:43.395676Z"
    }
   },
   "outputs": [],
   "source": [
    "print(\"Number of is_fraud data\",train_df_final['is_fraud'].value_counts())"
   ]
  },
  {
   "cell_type": "markdown",
   "metadata": {},
   "source": [
    "Note: Now is_fraud = 0 and is_fruad = 1 have amount = 7506 both"
   ]
  },
  {
   "cell_type": "markdown",
   "metadata": {},
   "source": [
    "# Data Tranformation\n",
    "\n",
    "### Train Data"
   ]
  },
  {
   "cell_type": "code",
   "execution_count": null,
   "metadata": {
    "execution": {
     "iopub.execute_input": "2022-12-04T17:18:43.403723Z",
     "iopub.status.busy": "2022-12-04T17:18:43.403196Z",
     "iopub.status.idle": "2022-12-04T17:18:43.440983Z",
     "shell.execute_reply": "2022-12-04T17:18:43.440175Z",
     "shell.execute_reply.started": "2022-12-04T17:18:43.403671Z"
    }
   },
   "outputs": [],
   "source": [
    "\n",
    "train_df_final['trans_date_trans_time'] = pd.to_datetime(train_df_final['trans_date_trans_time'])\n",
    "train_df_final['week_number'] = train_df_final['trans_date_trans_time'].dt.dayofweek\n",
    "assert train_df_final['week_number'].max() == 6\n",
    "train_df_final['month_number'] = train_df_final['trans_date_trans_time'].dt.month\n",
    "assert train_df_final['month_number'].max() == 12\n",
    "train_df_final['year'] = train_df_final['trans_date_trans_time'].dt.year\n",
    "train_df_final.head()"
   ]
  },
  {
   "cell_type": "markdown",
   "metadata": {},
   "source": [
    "### Test Data"
   ]
  },
  {
   "cell_type": "code",
   "execution_count": null,
   "metadata": {
    "execution": {
     "iopub.execute_input": "2022-12-04T17:18:43.442564Z",
     "iopub.status.busy": "2022-12-04T17:18:43.442239Z",
     "iopub.status.idle": "2022-12-04T17:18:43.724411Z",
     "shell.execute_reply": "2022-12-04T17:18:43.723620Z",
     "shell.execute_reply.started": "2022-12-04T17:18:43.442530Z"
    }
   },
   "outputs": [],
   "source": [
    "test_df['trans_date_trans_time'] = pd.to_datetime(test_df['trans_date_trans_time'])\n",
    "test_df['week_number'] = test_df['trans_date_trans_time'].dt.dayofweek\n",
    "assert test_df['week_number'].max() == 6\n",
    "test_df['month_number'] = test_df['trans_date_trans_time'].dt.month\n",
    "assert test_df['month_number'].max() == 12\n",
    "test_df['year'] = test_df['trans_date_trans_time'].dt.year\n",
    "test_df.head()"
   ]
  },
  {
   "cell_type": "code",
   "execution_count": null,
   "metadata": {
    "execution": {
     "iopub.execute_input": "2022-12-04T17:18:43.726349Z",
     "iopub.status.busy": "2022-12-04T17:18:43.725912Z",
     "iopub.status.idle": "2022-12-04T17:18:43.730543Z",
     "shell.execute_reply": "2022-12-04T17:18:43.729751Z",
     "shell.execute_reply.started": "2022-12-04T17:18:43.726310Z"
    }
   },
   "outputs": [],
   "source": [
    "from sklearn.metrics import confusion_matrix\n",
    "from sklearn.metrics import classification_report, confusion_matrix"
   ]
  },
  {
   "cell_type": "markdown",
   "metadata": {},
   "source": [
    "## One-Hot Endcoding\n",
    "Category is Nominal Data that cannot work with model,So I will change category to numerical by One Hot Encoding\n",
    "\n",
    "### Train Data"
   ]
  },
  {
   "cell_type": "code",
   "execution_count": null,
   "metadata": {
    "execution": {
     "iopub.execute_input": "2022-12-04T17:18:43.732423Z",
     "iopub.status.busy": "2022-12-04T17:18:43.731970Z",
     "iopub.status.idle": "2022-12-04T17:18:43.776494Z",
     "shell.execute_reply": "2022-12-04T17:18:43.775610Z",
     "shell.execute_reply.started": "2022-12-04T17:18:43.732385Z"
    }
   },
   "outputs": [],
   "source": [
    "category_onehot = pd.get_dummies(train_df_final.category, prefix='category')\n",
    "train_df_final = train_df_final.join(category_onehot)\n",
    "train_df_final.head()"
   ]
  },
  {
   "cell_type": "markdown",
   "metadata": {},
   "source": [
    "### Test Data"
   ]
  },
  {
   "cell_type": "code",
   "execution_count": null,
   "metadata": {
    "execution": {
     "iopub.execute_input": "2022-12-04T17:18:43.778365Z",
     "iopub.status.busy": "2022-12-04T17:18:43.778075Z",
     "iopub.status.idle": "2022-12-04T17:18:43.948837Z",
     "shell.execute_reply": "2022-12-04T17:18:43.947903Z",
     "shell.execute_reply.started": "2022-12-04T17:18:43.778327Z"
    }
   },
   "outputs": [],
   "source": [
    "category_onehot_test_data = pd.get_dummies(test_df.category, prefix='category')\n",
    "test_df = test_df.join(category_onehot_test_data)\n",
    "test_df.head()"
   ]
  },
  {
   "cell_type": "markdown",
   "metadata": {},
   "source": [
    "## Gender\n",
    "Change gender from nominal to numerical"
   ]
  },
  {
   "cell_type": "code",
   "execution_count": null,
   "metadata": {
    "execution": {
     "iopub.execute_input": "2022-12-04T17:18:43.950817Z",
     "iopub.status.busy": "2022-12-04T17:18:43.950505Z",
     "iopub.status.idle": "2022-12-04T17:18:44.156869Z",
     "shell.execute_reply": "2022-12-04T17:18:44.155989Z",
     "shell.execute_reply.started": "2022-12-04T17:18:43.950770Z"
    }
   },
   "outputs": [],
   "source": [
    "\n",
    "train_df_final['gender'] = train_df_final['gender'].replace(['F','M'],[0,1])\n",
    "test_df['gender'] = test_df['gender'].replace(['F','M'],[0,1])\n",
    "print('Gender of train dataset', train_df_final['gender'].value_counts())\n",
    "print('Gender of test dataset', test_df['gender'].value_counts())"
   ]
  },
  {
   "cell_type": "markdown",
   "metadata": {},
   "source": [
    "## Merchant\n",
    "Convert Marchant to be numerical data"
   ]
  },
  {
   "cell_type": "code",
   "execution_count": null,
   "metadata": {
    "execution": {
     "iopub.execute_input": "2022-12-04T17:18:44.158731Z",
     "iopub.status.busy": "2022-12-04T17:18:44.158435Z",
     "iopub.status.idle": "2022-12-04T17:18:44.291128Z",
     "shell.execute_reply": "2022-12-04T17:18:44.290394Z",
     "shell.execute_reply.started": "2022-12-04T17:18:44.158683Z"
    }
   },
   "outputs": [],
   "source": [
    "from sklearn.preprocessing import LabelEncoder\n",
    "label_encoder = LabelEncoder()\n",
    "x_train = train_df_final['merchant']\n",
    "train_df_final['merchant_number'] = label_encoder.fit_transform(x_train)\n",
    "x_test = test_df['merchant']\n",
    "test_df['merchant_number'] = label_encoder.fit_transform(x_test)\n",
    "print('Merchant Number of train dataset',train_df_final['merchant_number'])\n",
    "print('Merchant Number of test dataset',test_df['merchant_number'])"
   ]
  },
  {
   "cell_type": "markdown",
   "metadata": {},
   "source": [
    "## Age\n",
    "Find Age from date of birth data"
   ]
  },
  {
   "cell_type": "code",
   "execution_count": null,
   "metadata": {
    "execution": {
     "iopub.execute_input": "2022-12-04T17:18:44.292886Z",
     "iopub.status.busy": "2022-12-04T17:18:44.292445Z",
     "iopub.status.idle": "2022-12-04T17:18:44.298034Z",
     "shell.execute_reply": "2022-12-04T17:18:44.297243Z",
     "shell.execute_reply.started": "2022-12-04T17:18:44.292847Z"
    }
   },
   "outputs": [],
   "source": [
    "from datetime import date\n",
    "def calculate_age(row):\n",
    "    today = date.today()\n",
    "    return today.year - row['dob'].year - ((today.month, today.day) < (row['dob'].month, row['dob'].day))\n"
   ]
  },
  {
   "cell_type": "markdown",
   "metadata": {},
   "source": [
    "### Train and test Age calculate"
   ]
  },
  {
   "cell_type": "code",
   "execution_count": null,
   "metadata": {
    "execution": {
     "iopub.execute_input": "2022-12-04T17:18:44.299889Z",
     "iopub.status.busy": "2022-12-04T17:18:44.299411Z",
     "iopub.status.idle": "2022-12-04T17:19:02.008976Z",
     "shell.execute_reply": "2022-12-04T17:19:02.008230Z",
     "shell.execute_reply.started": "2022-12-04T17:18:44.299851Z"
    }
   },
   "outputs": [],
   "source": [
    "train_df_final['dob'] = pd.to_datetime(train_df_final['dob'])\n",
    "train_df_final['age'] = train_df_final['dob']\n",
    "train_df_final['age'] = train_df_final.apply (lambda row: calculate_age(row), axis=1)\n",
    "\n",
    "test_df['dob'] = pd.to_datetime(test_df['dob'])\n",
    "test_df['age'] = test_df['dob']\n",
    "test_df['age'] = test_df.apply (lambda row: calculate_age(row), axis=1)\n",
    "\n",
    "print('Age of train dataset', train_df_final['age'].head(3))\n",
    "print('Age of test dataset', test_df['age'].head(3))"
   ]
  },
  {
   "cell_type": "markdown",
   "metadata": {},
   "source": [
    "### Job\n",
    "Convert Marchant to be numerical data"
   ]
  },
  {
   "cell_type": "code",
   "execution_count": null,
   "metadata": {
    "execution": {
     "iopub.execute_input": "2022-12-04T17:19:02.011004Z",
     "iopub.status.busy": "2022-12-04T17:19:02.010171Z",
     "iopub.status.idle": "2022-12-04T17:19:02.123564Z",
     "shell.execute_reply": "2022-12-04T17:19:02.122852Z",
     "shell.execute_reply.started": "2022-12-04T17:19:02.010966Z"
    }
   },
   "outputs": [],
   "source": [
    "from sklearn.preprocessing import LabelEncoder\n",
    "label_encoder = LabelEncoder()\n",
    "\n",
    "x_train = train_df_final['job']\n",
    "train_df_final['job_number'] = label_encoder.fit_transform(x_train)\n",
    "print(train_df_final['job_number'])\n",
    "x_test = test_df['job']\n",
    "test_df['job_number'] = label_encoder.fit_transform(x_test)\n",
    "print(test_df['job_number'])"
   ]
  },
  {
   "cell_type": "markdown",
   "metadata": {},
   "source": [
    "# Data Split"
   ]
  },
  {
   "cell_type": "code",
   "execution_count": null,
   "metadata": {
    "execution": {
     "iopub.execute_input": "2022-12-04T17:19:02.124961Z",
     "iopub.status.busy": "2022-12-04T17:19:02.124726Z",
     "iopub.status.idle": "2022-12-04T17:19:02.131933Z",
     "shell.execute_reply": "2022-12-04T17:19:02.131066Z",
     "shell.execute_reply.started": "2022-12-04T17:19:02.124928Z"
    }
   },
   "outputs": [],
   "source": [
    "#Select Train Data\n",
    "data_train = train_df_final[['amt','category_shopping_net','category_grocery_pos','category_home','category_misc_net',\n",
    "                                         'category_kids_pets','category_health_fitness','gender','age','month_number',\n",
    "                                         'category_food_dining','unix_time','category_personal_care','category_shopping_pos','is_fraud']]\n"
   ]
  },
  {
   "cell_type": "code",
   "execution_count": null,
   "metadata": {
    "execution": {
     "iopub.execute_input": "2022-12-04T17:19:02.134019Z",
     "iopub.status.busy": "2022-12-04T17:19:02.133197Z",
     "iopub.status.idle": "2022-12-04T17:19:02.187365Z",
     "shell.execute_reply": "2022-12-04T17:19:02.186620Z",
     "shell.execute_reply.started": "2022-12-04T17:19:02.133982Z"
    }
   },
   "outputs": [],
   "source": [
    "#Select Test Data\n",
    "data_test = test_df[['amt','category_shopping_net','category_grocery_pos','category_home','category_misc_net',\n",
    "                                         'category_kids_pets','category_health_fitness','gender','age','month_number',\n",
    "                                         'category_food_dining','unix_time','category_personal_care','category_shopping_pos','is_fraud']]\n"
   ]
  },
  {
   "cell_type": "code",
   "execution_count": null,
   "metadata": {
    "execution": {
     "iopub.execute_input": "2022-12-04T17:19:02.188985Z",
     "iopub.status.busy": "2022-12-04T17:19:02.188633Z",
     "iopub.status.idle": "2022-12-04T17:19:02.195416Z",
     "shell.execute_reply": "2022-12-04T17:19:02.194706Z",
     "shell.execute_reply.started": "2022-12-04T17:19:02.188949Z"
    }
   },
   "outputs": [],
   "source": [
    "# Prepare X_train y_train\n",
    "X_train = data_train[['amt','category_shopping_net','category_grocery_pos','category_home','category_misc_net',\n",
    "                                         'category_kids_pets','category_health_fitness','gender','age','month_number',\n",
    "                                         'category_food_dining','unix_time','category_personal_care','category_shopping_pos']]\n",
    "y_train = data_train['is_fraud']\n",
    "\n"
   ]
  },
  {
   "cell_type": "code",
   "execution_count": null,
   "metadata": {
    "execution": {
     "iopub.execute_input": "2022-12-04T17:19:02.197103Z",
     "iopub.status.busy": "2022-12-04T17:19:02.196667Z",
     "iopub.status.idle": "2022-12-04T17:19:02.213848Z",
     "shell.execute_reply": "2022-12-04T17:19:02.213064Z",
     "shell.execute_reply.started": "2022-12-04T17:19:02.197065Z"
    }
   },
   "outputs": [],
   "source": [
    "# Prepare X_test y_test\n",
    "X_test = data_test[['amt','category_shopping_net','category_grocery_pos','category_home','category_misc_net',\n",
    "                                         'category_kids_pets','category_health_fitness','gender','age','month_number',\n",
    "                                         'category_food_dining','unix_time','category_personal_care','category_shopping_pos']]\n",
    "y_test = data_test['is_fraud']\n"
   ]
  },
  {
   "cell_type": "markdown",
   "metadata": {},
   "source": [
    "# Scaler Data"
   ]
  },
  {
   "cell_type": "code",
   "execution_count": null,
   "metadata": {
    "execution": {
     "iopub.execute_input": "2022-12-04T17:19:02.218701Z",
     "iopub.status.busy": "2022-12-04T17:19:02.218488Z",
     "iopub.status.idle": "2022-12-04T17:19:02.222791Z",
     "shell.execute_reply": "2022-12-04T17:19:02.222121Z",
     "shell.execute_reply.started": "2022-12-04T17:19:02.218677Z"
    }
   },
   "outputs": [],
   "source": [
    "from sklearn import preprocessing"
   ]
  },
  {
   "cell_type": "code",
   "execution_count": null,
   "metadata": {
    "execution": {
     "iopub.execute_input": "2022-12-04T17:19:02.224766Z",
     "iopub.status.busy": "2022-12-04T17:19:02.224078Z",
     "iopub.status.idle": "2022-12-04T17:19:02.254941Z",
     "shell.execute_reply": "2022-12-04T17:19:02.254087Z",
     "shell.execute_reply.started": "2022-12-04T17:19:02.224732Z"
    }
   },
   "outputs": [],
   "source": [
    "# Scale X_train\n",
    "scaler = preprocessing.MinMaxScaler()\n",
    "newValue = scaler.fit_transform(X_train)\n",
    "X_train = pd.DataFrame(newValue, columns=X_train.columns)\n",
    "X_train.head()"
   ]
  },
  {
   "cell_type": "code",
   "execution_count": null,
   "metadata": {
    "execution": {
     "iopub.execute_input": "2022-12-04T17:19:02.256528Z",
     "iopub.status.busy": "2022-12-04T17:19:02.256232Z",
     "iopub.status.idle": "2022-12-04T17:19:02.369948Z",
     "shell.execute_reply": "2022-12-04T17:19:02.369038Z",
     "shell.execute_reply.started": "2022-12-04T17:19:02.256495Z"
    }
   },
   "outputs": [],
   "source": [
    "# Scale X_test\n",
    "scaler = preprocessing.MinMaxScaler()\n",
    "newValue = scaler.fit_transform(X_test)\n",
    "X_test = pd.DataFrame(newValue, columns=X_test.columns)\n",
    "X_test.head()"
   ]
  },
  {
   "cell_type": "markdown",
   "metadata": {},
   "source": [
    "# Model\n"
   ]
  },
  {
   "cell_type": "markdown",
   "metadata": {},
   "source": [
    "## Support Vector Machine"
   ]
  },
  {
   "cell_type": "code",
   "execution_count": null,
   "metadata": {
    "execution": {
     "iopub.execute_input": "2022-12-04T17:19:02.371761Z",
     "iopub.status.busy": "2022-12-04T17:19:02.371378Z",
     "iopub.status.idle": "2022-12-04T17:19:07.559083Z",
     "shell.execute_reply": "2022-12-04T17:19:07.558394Z",
     "shell.execute_reply.started": "2022-12-04T17:19:02.371720Z"
    }
   },
   "outputs": [],
   "source": [
    "from sklearn.svm import SVC  \n",
    "clf = SVC(kernel='linear') \n",
    "  \n",
    "# fitting x samples and y classes \n",
    "clf.fit(X_train, y_train)"
   ]
  },
  {
   "cell_type": "code",
   "execution_count": null,
   "metadata": {
    "execution": {
     "iopub.execute_input": "2022-12-04T17:19:28.915540Z",
     "iopub.status.busy": "2022-12-04T17:19:28.915274Z",
     "iopub.status.idle": "2022-12-04T17:20:23.731022Z",
     "shell.execute_reply": "2022-12-04T17:20:23.730198Z",
     "shell.execute_reply.started": "2022-12-04T17:19:28.915511Z"
    }
   },
   "outputs": [],
   "source": [
    "#Predict\n",
    "y_pred = clf.predict(X_test)\n"
   ]
  },
  {
   "cell_type": "code",
   "execution_count": null,
   "metadata": {
    "execution": {
     "iopub.execute_input": "2022-12-04T17:20:23.732924Z",
     "iopub.status.busy": "2022-12-04T17:20:23.732650Z",
     "iopub.status.idle": "2022-12-04T17:20:24.562758Z",
     "shell.execute_reply": "2022-12-04T17:20:24.561988Z",
     "shell.execute_reply.started": "2022-12-04T17:20:23.732889Z"
    }
   },
   "outputs": [],
   "source": [
    "# Confusion matrix\n",
    "cf=confusion_matrix(y_test,y_pred)\n",
    "plt.figure(figsize=(10,8))\n",
    "sns.heatmap(cf/np.sum(cf), annot=True, \n",
    "            fmt='.2%', cmap='Blues')"
   ]
  },
  {
   "cell_type": "code",
   "execution_count": null,
   "metadata": {
    "execution": {
     "iopub.execute_input": "2022-12-04T17:20:24.566290Z",
     "iopub.status.busy": "2022-12-04T17:20:24.564135Z",
     "iopub.status.idle": "2022-12-04T17:20:25.121698Z",
     "shell.execute_reply": "2022-12-04T17:20:25.120913Z",
     "shell.execute_reply.started": "2022-12-04T17:20:24.566208Z"
    }
   },
   "outputs": [],
   "source": [
    "\n",
    "print(\"Classification report\")\n",
    "print(classification_report(y_test, y_pred))\n"
   ]
  },
  {
   "cell_type": "markdown",
   "metadata": {},
   "source": [
    "## Decision Tree Classifier"
   ]
  },
  {
   "cell_type": "code",
   "execution_count": null,
   "metadata": {
    "execution": {
     "iopub.execute_input": "2022-12-04T17:20:25.124072Z",
     "iopub.status.busy": "2022-12-04T17:20:25.123804Z",
     "iopub.status.idle": "2022-12-04T17:20:25.128400Z",
     "shell.execute_reply": "2022-12-04T17:20:25.127254Z",
     "shell.execute_reply.started": "2022-12-04T17:20:25.124035Z"
    }
   },
   "outputs": [],
   "source": [
    "from sklearn.tree import DecisionTreeClassifier"
   ]
  },
  {
   "cell_type": "code",
   "execution_count": null,
   "metadata": {
    "execution": {
     "iopub.execute_input": "2022-12-04T17:20:25.130442Z",
     "iopub.status.busy": "2022-12-04T17:20:25.130190Z",
     "iopub.status.idle": "2022-12-04T17:20:25.233602Z",
     "shell.execute_reply": "2022-12-04T17:20:25.232838Z",
     "shell.execute_reply.started": "2022-12-04T17:20:25.130409Z"
    }
   },
   "outputs": [],
   "source": [
    "# Create Decision Tree classifer object\n",
    "clf = DecisionTreeClassifier()\n",
    "\n",
    "# Train Decision Tree Classifer\n",
    "clf = clf.fit(X_train,y_train)\n",
    "\n",
    "#Predict the response for test dataset\n",
    "y_pred = clf.predict(X_test)"
   ]
  },
  {
   "cell_type": "code",
   "execution_count": null,
   "metadata": {
    "execution": {
     "iopub.execute_input": "2022-12-04T17:20:25.234966Z",
     "iopub.status.busy": "2022-12-04T17:20:25.234724Z",
     "iopub.status.idle": "2022-12-04T17:20:25.841104Z",
     "shell.execute_reply": "2022-12-04T17:20:25.840415Z",
     "shell.execute_reply.started": "2022-12-04T17:20:25.234934Z"
    }
   },
   "outputs": [],
   "source": [
    "\n",
    "# Confusion matrix\n",
    "cf=confusion_matrix(y_test,y_pred)\n",
    "plt.figure(figsize=(10,8))\n",
    "sns.heatmap(cf/np.sum(cf), annot=True, \n",
    "            fmt='.2%', cmap='Blues')"
   ]
  },
  {
   "cell_type": "code",
   "execution_count": null,
   "metadata": {
    "execution": {
     "iopub.execute_input": "2022-12-04T17:20:25.842492Z",
     "iopub.status.busy": "2022-12-04T17:20:25.842248Z",
     "iopub.status.idle": "2022-12-04T17:20:26.356095Z",
     "shell.execute_reply": "2022-12-04T17:20:26.355262Z",
     "shell.execute_reply.started": "2022-12-04T17:20:25.842458Z"
    }
   },
   "outputs": [],
   "source": [
    "\n",
    "print(\"Classification report\")\n",
    "print(classification_report(y_test, y_pred))\n"
   ]
  },
  {
   "cell_type": "markdown",
   "metadata": {},
   "source": [
    "## LogisticRegression"
   ]
  },
  {
   "cell_type": "code",
   "execution_count": null,
   "metadata": {
    "execution": {
     "iopub.execute_input": "2022-12-04T17:20:26.357789Z",
     "iopub.status.busy": "2022-12-04T17:20:26.357504Z",
     "iopub.status.idle": "2022-12-04T17:20:26.363184Z",
     "shell.execute_reply": "2022-12-04T17:20:26.362450Z",
     "shell.execute_reply.started": "2022-12-04T17:20:26.357753Z"
    }
   },
   "outputs": [],
   "source": [
    "from sklearn.linear_model import LogisticRegression\n",
    "from sklearn import preprocessing\n",
    "from sklearn.model_selection import  cross_val_score\n",
    "from sklearn.metrics import confusion_matrix\n",
    "from sklearn.metrics import classification_report, confusion_matrix"
   ]
  },
  {
   "cell_type": "code",
   "execution_count": null,
   "metadata": {
    "execution": {
     "iopub.execute_input": "2022-12-04T17:20:26.364901Z",
     "iopub.status.busy": "2022-12-04T17:20:26.364298Z",
     "iopub.status.idle": "2022-12-04T17:20:26.457139Z",
     "shell.execute_reply": "2022-12-04T17:20:26.456278Z",
     "shell.execute_reply.started": "2022-12-04T17:20:26.364863Z"
    }
   },
   "outputs": [],
   "source": [
    "model = LogisticRegression(random_state=42)\n",
    "model.fit(X_train, y_train)\n"
   ]
  },
  {
   "cell_type": "code",
   "execution_count": null,
   "metadata": {
    "execution": {
     "iopub.execute_input": "2022-12-04T17:20:26.460249Z",
     "iopub.status.busy": "2022-12-04T17:20:26.459551Z",
     "iopub.status.idle": "2022-12-04T17:20:26.483512Z",
     "shell.execute_reply": "2022-12-04T17:20:26.482626Z",
     "shell.execute_reply.started": "2022-12-04T17:20:26.460212Z"
    }
   },
   "outputs": [],
   "source": [
    "#Predict\n",
    "y_pred = model.predict(X_test)\n"
   ]
  },
  {
   "cell_type": "markdown",
   "metadata": {},
   "source": [
    "# Confusion matrix"
   ]
  },
  {
   "cell_type": "code",
   "execution_count": null,
   "metadata": {
    "execution": {
     "iopub.execute_input": "2022-12-04T17:20:26.484959Z",
     "iopub.status.busy": "2022-12-04T17:20:26.484596Z",
     "iopub.status.idle": "2022-12-04T17:20:26.942365Z",
     "shell.execute_reply": "2022-12-04T17:20:26.941620Z",
     "shell.execute_reply.started": "2022-12-04T17:20:26.484926Z"
    }
   },
   "outputs": [],
   "source": [
    "# Confusion matrix\n",
    "cf=confusion_matrix(y_test,y_pred)\n"
   ]
  },
  {
   "cell_type": "code",
   "execution_count": null,
   "metadata": {
    "execution": {
     "iopub.execute_input": "2022-12-04T17:20:26.944044Z",
     "iopub.status.busy": "2022-12-04T17:20:26.943784Z",
     "iopub.status.idle": "2022-12-04T17:20:26.949419Z",
     "shell.execute_reply": "2022-12-04T17:20:26.948693Z",
     "shell.execute_reply.started": "2022-12-04T17:20:26.944007Z"
    }
   },
   "outputs": [],
   "source": [
    "X_test.shape"
   ]
  },
  {
   "cell_type": "code",
   "execution_count": null,
   "metadata": {
    "execution": {
     "iopub.execute_input": "2022-12-04T17:20:26.951409Z",
     "iopub.status.busy": "2022-12-04T17:20:26.950929Z",
     "iopub.status.idle": "2022-12-04T17:20:27.181650Z",
     "shell.execute_reply": "2022-12-04T17:20:27.180988Z",
     "shell.execute_reply.started": "2022-12-04T17:20:26.951351Z"
    }
   },
   "outputs": [],
   "source": [
    "\n",
    "plt.figure(figsize=(10,8))\n",
    "sns.heatmap(cf/np.sum(cf), annot=True, \n",
    "            fmt='.2%', cmap='Blues')"
   ]
  },
  {
   "cell_type": "markdown",
   "metadata": {},
   "source": [
    "# Classification Report"
   ]
  },
  {
   "cell_type": "code",
   "execution_count": null,
   "metadata": {
    "execution": {
     "iopub.execute_input": "2022-12-04T17:20:27.182965Z",
     "iopub.status.busy": "2022-12-04T17:20:27.182719Z",
     "iopub.status.idle": "2022-12-04T17:20:27.717880Z",
     "shell.execute_reply": "2022-12-04T17:20:27.717068Z",
     "shell.execute_reply.started": "2022-12-04T17:20:27.182928Z"
    }
   },
   "outputs": [],
   "source": [
    "\n",
    "print(\"Classification report\")\n",
    "print(classification_report(y_test, y_pred))\n"
   ]
  },
  {
   "cell_type": "markdown",
   "metadata": {},
   "source": [
    "# ROC_Curve"
   ]
  },
  {
   "cell_type": "code",
   "execution_count": null,
   "metadata": {
    "execution": {
     "iopub.execute_input": "2022-12-04T17:20:27.719706Z",
     "iopub.status.busy": "2022-12-04T17:20:27.719265Z",
     "iopub.status.idle": "2022-12-04T17:20:27.723913Z",
     "shell.execute_reply": "2022-12-04T17:20:27.722932Z",
     "shell.execute_reply.started": "2022-12-04T17:20:27.719666Z"
    }
   },
   "outputs": [],
   "source": [
    "from sklearn import metrics"
   ]
  },
  {
   "cell_type": "code",
   "execution_count": null,
   "metadata": {
    "execution": {
     "iopub.execute_input": "2022-12-04T17:20:27.725934Z",
     "iopub.status.busy": "2022-12-04T17:20:27.725552Z",
     "iopub.status.idle": "2022-12-04T17:20:28.105080Z",
     "shell.execute_reply": "2022-12-04T17:20:28.104396Z",
     "shell.execute_reply.started": "2022-12-04T17:20:27.725898Z"
    }
   },
   "outputs": [],
   "source": [
    "y_pred_proba = model.predict_proba(X_test)[::,1]\n",
    "fpr, tpr, _ = metrics.roc_curve(y_test,  y_pred_proba)\n",
    "roc_auc = metrics.auc(fpr, tpr)\n",
    "plt.figure()\n",
    "lw = 2\n",
    "plt.plot(\n",
    "    fpr,\n",
    "    tpr,\n",
    "    color=\"darkorange\",\n",
    "    lw=lw,\n",
    "    label=\"ROC curve (area = %0.2f)\" % roc_auc,\n",
    ")\n",
    "plt.plot([0, 1], [0, 1], color=\"navy\", lw=lw, linestyle=\"--\")\n",
    "plt.xlabel(\"False Positive Rate\")\n",
    "plt.ylabel(\"True Positive Rate\")\n",
    "plt.title(\"Receiver operating characteristic example\")\n",
    "plt.legend(loc=\"lower right\")\n",
    "plt.show()"
   ]
  },
  {
   "cell_type": "code",
   "execution_count": null,
   "metadata": {
    "execution": {
     "iopub.status.busy": "2022-12-04T17:19:07.604638Z",
     "iopub.status.idle": "2022-12-04T17:19:07.605026Z",
     "shell.execute_reply": "2022-12-04T17:19:07.604836Z",
     "shell.execute_reply.started": "2022-12-04T17:19:07.604815Z"
    }
   },
   "outputs": [],
   "source": [
    "#Dataset\n",
    "#https://www.kaggle.com/datasets/kartik2112/fraud-detection"
   ]
  },
  {
   "cell_type": "code",
   "execution_count": null,
   "metadata": {
    "execution": {
     "iopub.execute_input": "2022-12-04T17:20:28.106965Z",
     "iopub.status.busy": "2022-12-04T17:20:28.106472Z",
     "iopub.status.idle": "2022-12-04T17:20:32.673938Z",
     "shell.execute_reply": "2022-12-04T17:20:32.673303Z",
     "shell.execute_reply.started": "2022-12-04T17:20:28.106925Z"
    }
   },
   "outputs": [],
   "source": [
    "from numpy import loadtxt\n",
    "from xgboost import XGBClassifier\n",
    "\n",
    "# fit model no training data\n",
    "clf = XGBClassifier()\n",
    "\n",
    "# Train Decision Tree Classifer\n",
    "clf = clf.fit(X_train,y_train)\n",
    "\n",
    "#Predict the response for test dataset\n",
    "y_pred = clf.predict(X_test)"
   ]
  },
  {
   "cell_type": "code",
   "execution_count": null,
   "metadata": {
    "execution": {
     "iopub.execute_input": "2022-12-04T17:20:32.675528Z",
     "iopub.status.busy": "2022-12-04T17:20:32.675263Z",
     "iopub.status.idle": "2022-12-04T17:20:33.290188Z",
     "shell.execute_reply": "2022-12-04T17:20:33.289466Z",
     "shell.execute_reply.started": "2022-12-04T17:20:32.675490Z"
    }
   },
   "outputs": [],
   "source": [
    "\n",
    "# Confusion matrix\n",
    "cf=confusion_matrix(y_test,y_pred)\n",
    "plt.figure(figsize=(10,8))\n",
    "sns.heatmap(cf/np.sum(cf), annot=True, \n",
    "            fmt='.2%', cmap='Blues')"
   ]
  },
  {
   "cell_type": "code",
   "execution_count": null,
   "metadata": {
    "execution": {
     "iopub.execute_input": "2022-12-04T17:20:33.292887Z",
     "iopub.status.busy": "2022-12-04T17:20:33.292609Z",
     "iopub.status.idle": "2022-12-04T17:20:33.822600Z",
     "shell.execute_reply": "2022-12-04T17:20:33.821868Z",
     "shell.execute_reply.started": "2022-12-04T17:20:33.292850Z"
    }
   },
   "outputs": [],
   "source": [
    "\n",
    "print(\"Classification report\")\n",
    "print(classification_report(y_test, y_pred))\n"
   ]
  },
  {
   "cell_type": "code",
   "execution_count": null,
   "metadata": {},
   "outputs": [],
   "source": []
  },
  {
   "cell_type": "code",
   "execution_count": null,
   "metadata": {},
   "outputs": [],
   "source": []
  },
  {
   "cell_type": "code",
   "execution_count": null,
   "metadata": {},
   "outputs": [],
   "source": []
  },
  {
   "cell_type": "code",
   "execution_count": null,
   "metadata": {},
   "outputs": [],
   "source": []
  }
 ],
 "metadata": {
  "kernelspec": {
   "display_name": "Python 3 (ipykernel)",
   "language": "python",
   "name": "python3"
  },
  "language_info": {
   "codemirror_mode": {
    "name": "ipython",
    "version": 3
   },
   "file_extension": ".py",
   "mimetype": "text/x-python",
   "name": "python",
   "nbconvert_exporter": "python",
   "pygments_lexer": "ipython3",
   "version": "3.9.13"
  }
 },
 "nbformat": 4,
 "nbformat_minor": 4
}
